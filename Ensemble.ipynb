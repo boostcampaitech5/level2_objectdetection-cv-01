{
 "cells": [
  {
   "cell_type": "code",
   "execution_count": null,
   "metadata": {},
   "outputs": [],
   "source": [
    "import pandas as pd\n",
    "from ensemble_boxes import *\n",
    "import numpy as np\n",
    "from pycocotools.coco import COCO\n",
    "\n",
    "import matplotlib.pyplot as plt"
   ]
  },
  {
   "cell_type": "code",
   "execution_count": null,
   "metadata": {},
   "outputs": [],
   "source": [
    "submission_files = [\n",
    "    \"/opt/ml/level2_objectdetection-cv-01/work_dirs/swin-t-p4-w7_cascade_rcnn_fpn_adamW_focalLoss_CosRes_mstrain_augmentation/submission_latest.csv\",\n",
    "    \"/opt/ml/level2_objectdetection-cv-01/work_dirs/swin-t-p4-w7_cascade_rcnn_Non_Local_fpn_adamW_focalLoss_CosRes_mstrain/submission_latest.csv\"\n",
    "    ]\n",
    "submission_df = [pd.read_csv(file) for file in submission_files]"
   ]
  },
  {
   "cell_type": "code",
   "execution_count": null,
   "metadata": {},
   "outputs": [],
   "source": [
    "submission_df"
   ]
  },
  {
   "cell_type": "code",
   "execution_count": null,
   "metadata": {},
   "outputs": [],
   "source": [
    "annotation = '../dataset/test.json'\n",
    "coco = COCO(annotation)\n",
    "image_ids = submission_df[0]['image_id'].tolist()"
   ]
  },
  {
   "cell_type": "code",
   "execution_count": null,
   "metadata": {},
   "outputs": [],
   "source": [
    "prediction_strings = []\n",
    "file_names = []\n",
    "iou_thr = 0.65\n",
    "skip_box_thr = 0.0001\n",
    "weights = [4, 2]\n",
    "\n",
    "for i, image_id in enumerate(image_ids):\n",
    "    prediction_string = ''\n",
    "    boxes_list = []\n",
    "    scores_list = []\n",
    "    labels_list = []\n",
    "    image_info = coco.loadImgs(i)[0]\n",
    "    for df in submission_df:\n",
    "        predict_string = df[df['image_id'] == image_id]['PredictionString'].tolist()[0]\n",
    "        predict_list = str(predict_string).split()\n",
    "        \n",
    "        if len(predict_list)==0 or len(predict_list)==1:\n",
    "            continue\n",
    "            \n",
    "        predict_list = np.reshape(predict_list, (-1, 6))\n",
    "        box_list = []\n",
    "        \n",
    "        for box in predict_list[:, 2:6].tolist():\n",
    "            box[0] = float(box[0]) / image_info['width']\n",
    "            box[1] = float(box[1]) / image_info['height']\n",
    "            box[2] = float(box[2]) / image_info['width']\n",
    "            box[3] = float(box[3]) / image_info['height']\n",
    "            box_list.append(box)\n",
    "            \n",
    "        boxes_list.append(box_list)\n",
    "        scores_list.append(list(map(float, predict_list[:, 1].tolist())))\n",
    "        labels_list.append(list(map(int, predict_list[:, 0].tolist())))\n",
    "        \n",
    "    if len(boxes_list):\n",
    "        boxes, scores, labels = nms(boxes_list, scores_list, labels_list, iou_thr=iou_thr) \n",
    "        # boxes, scores, labels = weighted_boxes_fusion(boxes_list, scores_list, labels_list, weights=weights, iou_thr=iou_thr, skip_box_thr=skip_box_thr)\n",
    "        for box, score, label in zip(boxes, scores, labels):\n",
    "            prediction_string += str(int(label)) + ' ' + str(score) + ' ' + str(box[0] * image_info['width']) + ' ' + str(box[1] * image_info['height']) + ' ' + str(box[2] * image_info['width']) + ' ' + str(box[3] * image_info['height']) + ' '\n",
    "    \n",
    "    prediction_strings.append(prediction_string)\n",
    "    file_names.append(image_id)"
   ]
  },
  {
   "cell_type": "code",
   "execution_count": null,
   "metadata": {},
   "outputs": [],
   "source": [
    "submission = pd.DataFrame()\n",
    "submission['PredictionString'] = prediction_strings\n",
    "submission['image_id'] = file_names\n",
    "submission.to_csv('./Ensemble/submission_ensemble.csv')\n",
    "\n",
    "submission.head()\n",
    "len(submission)"
   ]
  },
  {
   "cell_type": "code",
   "execution_count": null,
   "metadata": {},
   "outputs": [],
   "source": [
    "category = [\"General trash\", \"Paper\", \"Paper pack\", \"Metal\", \"Glass\", \"Plastic\", \"Styrofoam\", \"Plastic bag\", \"Battery\", \"Clothing\"]\n",
    "\n",
    "fig, axes = plt.subplots(1, 2, figsize=(25, 10))\n",
    "\n",
    "confidences = [{i:[] for i in range(10)}, {i:[] for i in range(10)}]\n",
    "\n",
    "for n, df in enumerate(submission_df):\n",
    "    for lst in df[\"PredictionString\"].tolist():\n",
    "        predict = str(lst).split()\n",
    "        for i in range(len(predict)//6):\n",
    "            label, confidence = int(predict[6*i + 0]), float(predict[6*i + 1])\n",
    "            confidences[n][label].append(confidence)\n",
    "\n",
    "tmp1 = [v if v else 0 for _, v in confidences[0].items()]\n",
    "tmp2 = [v if v else 0 for _, v in confidences[1].items()]\n",
    "\n",
    "axes[0].boxplot(tmp1)\n",
    "axes[1].boxplot(tmp2)\n",
    "axes[0].set_xticks(range(1, len(category)+1))\n",
    "axes[1].set_xticks(range(1, len(category)+1))\n",
    "axes[0].set_xticklabels(category)\n",
    "axes[1].set_xticklabels(category)\n",
    "plt.show()\n"
   ]
  },
  {
   "cell_type": "code",
   "execution_count": null,
   "metadata": {},
   "outputs": [],
   "source": [
    "import os\n",
    "\n",
    "import matplotlib.pyplot as plt\n",
    "import matplotlib.patches as patches\n",
    "from PIL import Image"
   ]
  },
  {
   "cell_type": "code",
   "execution_count": null,
   "metadata": {},
   "outputs": [],
   "source": [
    "colors = ['cyan', 'lime', 'orange', 'deeppink', 'gold', 'blueviolet', 'red', 'teal', 'hotpink', 'mediumspringgreen']\n",
    "\n",
    "fig, axes = plt.subplots(4, 3, figsize=(15, 20))\n",
    "\n",
    "informations = {f\"train{idx}\" : df for idx, df in enumerate(submission_df)}\n",
    "informations['ensemble'] = submission\n",
    "for y, image_id in enumerate(image_ids[16:20]):\n",
    "    img_path = os.path.join(\"../dataset/\", image_id)\n",
    "                            \n",
    "    for i, (name, df) in enumerate(informations.items()):\n",
    "        predict_list = str(df[df['image_id'] == image_id]['PredictionString'].tolist()[0]).split()\n",
    "        x = i % 3\n",
    "        img = Image.open(img_path)\n",
    "\n",
    "        axes[y][x].imshow(img)\n",
    "        axes[y][x].axis('off')\n",
    "        axes[y][x].set_title(name)\n",
    "\n",
    "        for idx in range(len(predict_list)//6):\n",
    "            label, confidence, x_min, y_min, x_max, y_max = int(predict_list[6*idx + 0]), float(predict_list[6*idx + 1]), float(predict_list[6*idx + 2]), float(predict_list[6*idx + 3]), float(predict_list[6*idx + 4]), float(predict_list[6*idx + 5])\n",
    "            rect = patches.Rectangle((x_min, y_min), x_max - x_min, y_max - y_min, linewidth=1, edgecolor=colors[label], facecolor='none')\n",
    "            axes[y][x].add_patch(rect)\n",
    "            axes[y][x].text(x_min, y_min-10, f\"{category[label]}\", color=colors[label], fontsize=7, weight='bold')\n",
    "fig.set_tight_layout\n",
    "plt.show()"
   ]
  }
 ],
 "metadata": {
  "kernelspec": {
   "display_name": "detection",
   "language": "python",
   "name": "detection"
  },
  "language_info": {
   "codemirror_mode": {
    "name": "ipython",
    "version": 3
   },
   "file_extension": ".py",
   "mimetype": "text/x-python",
   "name": "python",
   "nbconvert_exporter": "python",
   "pygments_lexer": "ipython3",
   "version": "3.7.16"
  },
  "orig_nbformat": 4
 },
 "nbformat": 4,
 "nbformat_minor": 2
}
