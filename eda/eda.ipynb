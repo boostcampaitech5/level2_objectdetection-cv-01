{
 "cells": [
  {
   "cell_type": "code",
   "execution_count": null,
   "metadata": {},
   "outputs": [],
   "source": [
    "import numpy as np\n",
    "import torch\n",
    "import matplotlib.pyplot as plt\n",
    "import pandas as pd\n",
    "from simple_loader import json_to_df"
   ]
  },
  {
   "cell_type": "code",
   "execution_count": null,
   "metadata": {},
   "outputs": [],
   "source": [
    "data_df, ann_df = json_to_df()\n",
    "class_names = ['General\\ntrash', 'Paper', 'Paper\\npack', 'Metal', 'Glass', 'Plastic', 'Styrofoam', 'Plastic\\nbag', 'Battery', 'Clothing']\n"
   ]
  },
  {
   "cell_type": "code",
   "execution_count": null,
   "metadata": {},
   "outputs": [],
   "source": [
    "def bar_score_show(bar,score,ax):\n",
    "    idx = 0\n",
    "    for b,s in zip(bar,score):\n",
    "        h = b.get_height()\n",
    "        ax.text(b.get_x()+(b.get_width()/2),h,f'{s}',ha='center',size=10)\n",
    "        idx += 1"
   ]
  },
  {
   "cell_type": "code",
   "execution_count": 13,
   "metadata": {},
   "outputs": [
    {
     "name": "stdout",
     "output_type": "stream",
     "text": [
      "1       [0.0, 407.4, 57.6, 180.6]\n",
      "2      [0.0, 455.6, 144.6, 181.6]\n",
      "3    [722.3, 313.4, 274.3, 251.9]\n",
      "4    [353.2, 671.0, 233.7, 103.4]\n",
      "5      [3.7, 448.5, 778.2, 242.0]\n",
      "6    [425.3, 681.9, 216.4, 179.8]\n",
      "7      [92.4, 601.7, 139.2, 53.1]\n",
      "8      [622.4, 686.5, 72.8, 94.2]\n",
      "Name: bbox, dtype: object\n"
     ]
    }
   ],
   "source": [
    "\n",
    "#class 개수 분포\n",
    "def eda_class_disribution():\n",
    "    fig,ax = plt.subplots()\n",
    "    num_of_class = ann_df['category_id'].value_counts().sort_index()\n",
    "    bar = ax.bar(class_names,num_of_class)\n",
    "    bar_score_show(bar,num_of_class,ax)\n",
    "    return [fig,ax,num_of_class]\n",
    "\n",
    "#이미지당 오브젝트 개수 분포\n",
    "def eda_one_image_object_distribution():\n",
    "    fig,ax = plt.subplots()\n",
    "    image_class_num = ann_df.groupby('image_id')['category_id'].count().value_counts()\n",
    "    bar = ax.bar(image_class_num.index,image_class_num) \n",
    "    #bar_score_show(bar,image_class_num)\n",
    "    return [fig,ax,image_class_num]\n",
    "\n",
    "#이미지당 포함된 클래스 개수 분포\n",
    "def eda_one_image_class_distribution():\n",
    "    fig,ax = plt.subplots()\n",
    "    image_class_num = ann_df.groupby('image_id')['category_id'].nunique().value_counts()\n",
    "    bar = ax.bar(image_class_num.index,image_class_num) \n",
    "    bar_score_show(bar,image_class_num,ax)\n",
    "    return [fig,ax,image_class_num]\n",
    "\n",
    "#박스의 중심점 위치 분포\n",
    "def eda_box_position_distribution():\n",
    "    box_pos = []\n",
    "    boxes = ann_df['bbox']\n",
    "    for box in boxes:\n",
    "        x=box[0]+(box[2]/2)\n",
    "        y=box[1]+(box[3]/2)\n",
    "        box_pos.append([x,y])\n",
    "    box_pos = np.array(box_pos)\n",
    "    fig,ax = plt.subplots()\n",
    "    ax.scatter(box_pos[:,0],box_pos[:,1],alpha=0.1,s=1)\n",
    "    return [fig,ax]\n",
    "\n",
    "#box의 크기 분포: ~100, 100~500, 500~1000, 1000~5000, 5000~\n",
    "def eda_box_area_distribution():\n",
    "    fig,ax = plt.subplots()\n",
    "    bins = [0,1024,1024*4,1024*16,1024*64,1024*256,1024*1024]\n",
    "    area_df = pd.cut(ann_df['area'],bins)\n",
    "    area_df = area_df.value_counts().sort_index()\n",
    "    area_df.index = ['~1024','1024~\\n4096','4096~\\n16384','16384~\\n65536','65536~\\n262144','262144~']\n",
    "    bar=ax.bar(area_df.index, area_df)\n",
    "    bar_score_show(bar,area_df,ax)\n",
    "    fig.show()\n",
    "    return [fig,ax]\n",
    "\n",
    "#box의 w/h 비율 분포\n",
    "def eda_box_wh_ratio_distribution():\n",
    "    fig,ax = plt.subplots()\n",
    "    bins = [0,0.1,0.3,0.5,1,2,3,10,30]\n",
    "    w_h_df = ann_df['bbox'].tolist()\n",
    "    w_h_np = np.array(w_h_df)[:,2:]\n",
    "\n",
    "    w_h_ratio = w_h_np[:,0]/w_h_np[:,1]\n",
    "    w_h_ratio_df = pd.DataFrame(w_h_ratio)\n",
    "    cutted_ratio = pd.cut(w_h_ratio_df[0],bins).value_counts().sort_index()\n",
    "    cutted_ratio.index = ['~0.1','0.1~0.3','0.3~0.5','0.5~1','1~2','2~3','3~10','10~']\n",
    "    bar = ax.bar(cutted_ratio.index, cutted_ratio)\n",
    "    bar_score_show(bar,cutted_ratio,ax)\n",
    "    return [fig,ax]\n",
    "    \n",
    "# eda_class_disribution()\n",
    "# eda_one_image_object_distribution()\n",
    "# eda_one_image_class_distribution()\n",
    "# eda_box_position_distribution()\n",
    "# eda_box_area_distribution()\n",
    "# eda_box_wh_ratio_distribution()\n",
    "\n",
    "print(ann_df[ann_df['image_id']==1]['bbox'])"
   ]
  },
  {
   "cell_type": "code",
   "execution_count": null,
   "metadata": {},
   "outputs": [],
   "source": [
    "print(ann_df.groupby('image_id')['category_id'].nunique())\n",
    "print(ann_df.groupby('image_id')['category_id'].count())"
   ]
  },
  {
   "cell_type": "code",
   "execution_count": null,
   "metadata": {},
   "outputs": [],
   "source": [
    "fig,_,_=eda_one_image_class_distribution()\n",
    "fig.show()"
   ]
  }
 ],
 "metadata": {
  "kernelspec": {
   "display_name": "detection",
   "language": "python",
   "name": "detection"
  },
  "language_info": {
   "codemirror_mode": {
    "name": "ipython",
    "version": 3
   },
   "file_extension": ".py",
   "mimetype": "text/x-python",
   "name": "python",
   "nbconvert_exporter": "python",
   "pygments_lexer": "ipython3",
   "version": "3.7.16"
  },
  "orig_nbformat": 4
 },
 "nbformat": 4,
 "nbformat_minor": 2
}
